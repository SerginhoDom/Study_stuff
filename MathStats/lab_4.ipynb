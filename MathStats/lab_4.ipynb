{
 "cells": [
  {
   "cell_type": "markdown",
   "metadata": {},
   "source": [
    "## Практика 5. Реализация доверительного интервала.\n",
    "### 1.1. ДИ для мат ожидания при известной дисперсии"
   ]
  },
  {
   "cell_type": "code",
   "execution_count": 4,
   "metadata": {},
   "outputs": [],
   "source": [
    "from scipy.stats import t, chi2, f, norm\n",
    "import numpy as np"
   ]
  },
  {
   "cell_type": "code",
   "execution_count": 5,
   "metadata": {},
   "outputs": [
    {
     "name": "stdout",
     "output_type": "stream",
     "text": [
      "P( -0.46043964233160134  < μ <  1.3604396423316014 )\n"
     ]
    }
   ],
   "source": [
    "x = [-1.2, 3.0, 1.6, -2.0, -0.2, 4.3, -3.9, 0.1, 3.5, -0.7]\n",
    "alpha = 0.15\n",
    "sigma = 2\n",
    "n = len(x)\n",
    "\n",
    "\n",
    "average_x = sum(x) / n\n",
    "Z_i = norm.ppf(1 - alpha/2)\n",
    "\n",
    "left = average_x - Z_i * sigma / n**(1/2)\n",
    "right = average_x + Z_i * sigma / n**(1/2)\n",
    "\n",
    "print(\"P(\", left, \" < μ < \", right,\")\")"
   ]
  },
  {
   "cell_type": "markdown",
   "metadata": {},
   "source": [
    "### 1.2. ДИ для мат ожидания при неизвестной дисперсии"
   ]
  },
  {
   "cell_type": "code",
   "execution_count": 7,
   "metadata": {},
   "outputs": [
    {
     "name": "stdout",
     "output_type": "stream",
     "text": [
      "P( -0.8505423791409221  < μ <  1.6396353262571857 )\n"
     ]
    }
   ],
   "source": [
    "x = [-1.2, 3.0, 1.6, -2.0, -0.2, 4.3, -3.9, 0.1, 3.5, -0.7]\n",
    "alpha = 0.15\n",
    "n = len(x)\n",
    "\n",
    "\n",
    "average_x = sum(x) / n\n",
    "t_i = t.ppf(1 - alpha/2, n-1)\n",
    "S0 = np.sqrt(np.var(x, ddof=1))\n",
    "\n",
    "left = average_x - t_i * S0 / n**(1/2)\n",
    "right = average_x + Z_i * S0 / n**(1/2)\n",
    "\n",
    "print(\"P(\", left, \" < μ < \", right,\")\")"
   ]
  },
  {
   "cell_type": "markdown",
   "metadata": {},
   "source": [
    "### 1.3. ДИ для дисперсии при неизвестном мат ожидании"
   ]
  },
  {
   "cell_type": "code",
   "execution_count": 10,
   "metadata": {},
   "outputs": [
    {
     "name": "stdout",
     "output_type": "stream",
     "text": [
      "P( 3.932264044629203  < σ <  16.24017873434395 )\n"
     ]
    }
   ],
   "source": [
    "x = [-1.2, 3.0, 1.6, -2.0, -0.2, 4.3, -3.9, 0.1, 3.5, -0.7]\n",
    "alpha = 0.15\n",
    "n = len(x)\n",
    "\n",
    "S0 = np.var(x, ddof=1)\n",
    "chi2_1 = chi2.ppf(1 - alpha/2, n-1)\n",
    "chi2_2 = chi2.ppf(alpha/2, n-1)\n",
    "\n",
    "left = (n-1) * S0 / chi2_1\n",
    "right = (n-1) * S0 / chi2_2\n",
    "\n",
    "print(\"P(\", left, \" < σ^2 < \", right,\")\")"
   ]
  },
  {
   "cell_type": "markdown",
   "metadata": {},
   "source": [
    "### 1.4. ДИ для дисперсии при известном мат ожидании"
   ]
  },
  {
   "cell_type": "code",
   "execution_count": 11,
   "metadata": {},
   "outputs": [
    {
     "name": "stdout",
     "output_type": "stream",
     "text": [
      "P( 3.7999300025125486  < σ^2 <  14.505597091921565 )\n"
     ]
    }
   ],
   "source": [
    "x = [-1.2, 3.0, 1.6, -2.0, -0.2, 4.3, -3.9, 0.1, 3.5, -0.7]\n",
    "alpha = 0.15\n",
    "mu = 1\n",
    "n = len(x)\n",
    "\n",
    "summ = 0\n",
    "for i in range(len(x)):\n",
    "    summ += (x[i] - mu) ** 2\n",
    "\n",
    "chi2_1 = chi2.ppf(1 - alpha/2, n)\n",
    "chi2_2 = chi2.ppf(alpha/2, n)\n",
    "\n",
    "left = summ / chi2_1\n",
    "right = summ / chi2_2\n",
    "\n",
    "print(\"P(\", left, \" < σ^2 < \", right,\")\")"
   ]
  },
  {
   "cell_type": "markdown",
   "metadata": {},
   "source": [
    "### 2.1. ДИ для разницы мат ожиданий при известных дисперсиях"
   ]
  },
  {
   "cell_type": "code",
   "execution_count": null,
   "metadata": {},
   "outputs": [],
   "source": [
    "x_1 = [-1.2, 3.0, 1.6, -2.0, -0.2, 4.3, -3.9, 0.1, 3.5, -0.7]\n",
    "x_2 = [0.8, 5.0, 3.6, 0.0, 1.8, 6.3, -1.9, 2.1, 5.5, 1.3, 1.6, 2.8]\n",
    "alpha = 0.15\n",
    "sigma_1 = sigma_2 = 2 \n",
    "\n",
    "avg_1 = sum(x_1) / len(x_1)\n",
    "avg_2 = sum(x_2) / len(x_2)\n",
    "\n",
    "SE = np.sqrt(sigma_1**2 / len(x_1) + sigma_2**2 / len(x_2))\n",
    "\n",
    "Z_i = norm.ppf(1 - alpha/2)\n",
    "\n",
    "# предельная ошибка\n",
    "margin_error = SE * Z_i\n"
   ]
  }
 ],
 "metadata": {
  "kernelspec": {
   "display_name": "Python 3",
   "language": "python",
   "name": "python3"
  },
  "language_info": {
   "codemirror_mode": {
    "name": "ipython",
    "version": 3
   },
   "file_extension": ".py",
   "mimetype": "text/x-python",
   "name": "python",
   "nbconvert_exporter": "python",
   "pygments_lexer": "ipython3",
   "version": "3.11.4"
  }
 },
 "nbformat": 4,
 "nbformat_minor": 2
}
