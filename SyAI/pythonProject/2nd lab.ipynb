{
 "cells": [
  {
   "cell_type": "markdown",
   "id": "6f012ffa-a91f-432d-a59c-0c283b8c27f2",
   "metadata": {},
   "source": [
    "# Text preprocessing"
   ]
  },
  {
   "cell_type": "markdown",
   "id": "5c613c46-b75f-4c1b-bdde-ca092efb7735",
   "metadata": {},
   "source": [
    "## Устновка зависимостей и данных"
   ]
  },
  {
   "cell_type": "code",
   "execution_count": 1,
   "id": "5f64e0bf-72b6-4b4d-8764-7af05710473a",
   "metadata": {},
   "outputs": [
    {
     "name": "stdout",
     "output_type": "stream",
     "text": [
      "Collecting nltk\n",
      "  Downloading nltk-3.9.1-py3-none-any.whl.metadata (2.9 kB)\n",
      "Collecting datasets\n",
      "  Downloading datasets-3.1.0-py3-none-any.whl.metadata (20 kB)\n",
      "Collecting click (from nltk)\n",
      "  Downloading click-8.1.7-py3-none-any.whl.metadata (3.0 kB)\n",
      "Requirement already satisfied: joblib in c:\\users\\сергей\\appdata\\local\\programs\\python\\python312\\lib\\site-packages (from nltk) (1.4.2)\n",
      "Collecting regex>=2021.8.3 (from nltk)\n",
      "  Downloading regex-2024.11.6-cp312-cp312-win_amd64.whl.metadata (41 kB)\n",
      "     ---------------------------------------- 0.0/41.5 kB ? eta -:--:--\n",
      "     --------- ------------------------------ 10.2/41.5 kB ? eta -:--:--\n",
      "     ---------------------------- --------- 30.7/41.5 kB 660.6 kB/s eta 0:00:01\n",
      "     -------------------------------------- 41.5/41.5 kB 401.4 kB/s eta 0:00:00\n",
      "Requirement already satisfied: tqdm in c:\\users\\сергей\\appdata\\local\\programs\\python\\python312\\lib\\site-packages (from nltk) (4.66.4)\n",
      "Requirement already satisfied: filelock in c:\\users\\сергей\\appdata\\local\\programs\\python\\python312\\lib\\site-packages (from datasets) (3.15.3)\n",
      "Requirement already satisfied: numpy>=1.17 in c:\\users\\сергей\\appdata\\local\\programs\\python\\python312\\lib\\site-packages (from datasets) (2.0.0)\n",
      "Collecting pyarrow>=15.0.0 (from datasets)\n",
      "  Downloading pyarrow-18.0.0-cp312-cp312-win_amd64.whl.metadata (3.4 kB)\n",
      "Collecting dill<0.3.9,>=0.3.0 (from datasets)\n",
      "  Downloading dill-0.3.8-py3-none-any.whl.metadata (10 kB)\n",
      "Requirement already satisfied: pandas in c:\\users\\сергей\\appdata\\local\\programs\\python\\python312\\lib\\site-packages (from datasets) (2.2.2)\n",
      "Requirement already satisfied: requests>=2.32.2 in c:\\users\\сергей\\appdata\\local\\programs\\python\\python312\\lib\\site-packages (from datasets) (2.32.3)\n",
      "Collecting xxhash (from datasets)\n",
      "  Downloading xxhash-3.5.0-cp312-cp312-win_amd64.whl.metadata (13 kB)\n",
      "Collecting multiprocess<0.70.17 (from datasets)\n",
      "  Downloading multiprocess-0.70.16-py312-none-any.whl.metadata (7.2 kB)\n",
      "Collecting fsspec<=2024.9.0,>=2023.1.0 (from fsspec[http]<=2024.9.0,>=2023.1.0->datasets)\n",
      "  Downloading fsspec-2024.9.0-py3-none-any.whl.metadata (11 kB)\n",
      "Collecting aiohttp (from datasets)\n",
      "  Downloading aiohttp-3.11.4-cp312-cp312-win_amd64.whl.metadata (8.0 kB)\n",
      "Collecting huggingface-hub>=0.23.0 (from datasets)\n",
      "  Downloading huggingface_hub-0.26.2-py3-none-any.whl.metadata (13 kB)\n",
      "Requirement already satisfied: packaging in c:\\users\\сергей\\appdata\\local\\programs\\python\\python312\\lib\\site-packages (from datasets) (24.1)\n",
      "Requirement already satisfied: pyyaml>=5.1 in c:\\users\\сергей\\appdata\\local\\programs\\python\\python312\\lib\\site-packages (from datasets) (6.0.1)\n",
      "Collecting aiohappyeyeballs>=2.3.0 (from aiohttp->datasets)\n",
      "  Downloading aiohappyeyeballs-2.4.3-py3-none-any.whl.metadata (6.1 kB)\n",
      "Collecting aiosignal>=1.1.2 (from aiohttp->datasets)\n",
      "  Downloading aiosignal-1.3.1-py3-none-any.whl.metadata (4.0 kB)\n",
      "Requirement already satisfied: attrs>=17.3.0 in c:\\users\\сергей\\appdata\\local\\programs\\python\\python312\\lib\\site-packages (from aiohttp->datasets) (23.2.0)\n",
      "Collecting frozenlist>=1.1.1 (from aiohttp->datasets)\n",
      "  Downloading frozenlist-1.5.0-cp312-cp312-win_amd64.whl.metadata (14 kB)\n",
      "Collecting multidict<7.0,>=4.5 (from aiohttp->datasets)\n",
      "  Downloading multidict-6.1.0-cp312-cp312-win_amd64.whl.metadata (5.1 kB)\n",
      "Collecting propcache>=0.2.0 (from aiohttp->datasets)\n",
      "  Downloading propcache-0.2.0-cp312-cp312-win_amd64.whl.metadata (7.9 kB)\n",
      "Collecting yarl<2.0,>=1.17.0 (from aiohttp->datasets)\n",
      "  Downloading yarl-1.17.2-cp312-cp312-win_amd64.whl.metadata (68 kB)\n",
      "     ---------------------------------------- 0.0/68.8 kB ? eta -:--:--\n",
      "     ----------------- ---------------------- 30.7/68.8 kB 1.3 MB/s eta 0:00:01\n",
      "     ----------------------------------- ---- 61.4/68.8 kB 1.1 MB/s eta 0:00:01\n",
      "     -------------------------------------- 68.8/68.8 kB 750.6 kB/s eta 0:00:00\n",
      "Collecting typing-extensions>=3.7.4.3 (from huggingface-hub>=0.23.0->datasets)\n",
      "  Downloading typing_extensions-4.12.2-py3-none-any.whl.metadata (3.0 kB)\n",
      "Requirement already satisfied: charset-normalizer<4,>=2 in c:\\users\\сергей\\appdata\\local\\programs\\python\\python312\\lib\\site-packages (from requests>=2.32.2->datasets) (3.3.2)\n",
      "Requirement already satisfied: idna<4,>=2.5 in c:\\users\\сергей\\appdata\\local\\programs\\python\\python312\\lib\\site-packages (from requests>=2.32.2->datasets) (3.7)\n",
      "Requirement already satisfied: urllib3<3,>=1.21.1 in c:\\users\\сергей\\appdata\\local\\programs\\python\\python312\\lib\\site-packages (from requests>=2.32.2->datasets) (2.2.2)\n",
      "Requirement already satisfied: certifi>=2017.4.17 in c:\\users\\сергей\\appdata\\local\\programs\\python\\python312\\lib\\site-packages (from requests>=2.32.2->datasets) (2024.6.2)\n",
      "Requirement already satisfied: colorama in c:\\users\\сергей\\appdata\\local\\programs\\python\\python312\\lib\\site-packages (from tqdm->nltk) (0.4.6)\n",
      "Requirement already satisfied: python-dateutil>=2.8.2 in c:\\users\\сергей\\appdata\\local\\programs\\python\\python312\\lib\\site-packages (from pandas->datasets) (2.9.0.post0)\n",
      "Requirement already satisfied: pytz>=2020.1 in c:\\users\\сергей\\appdata\\local\\programs\\python\\python312\\lib\\site-packages (from pandas->datasets) (2024.1)\n",
      "Requirement already satisfied: tzdata>=2022.7 in c:\\users\\сергей\\appdata\\local\\programs\\python\\python312\\lib\\site-packages (from pandas->datasets) (2024.1)\n",
      "Requirement already satisfied: six>=1.5 in c:\\users\\сергей\\appdata\\local\\programs\\python\\python312\\lib\\site-packages (from python-dateutil>=2.8.2->pandas->datasets) (1.16.0)\n",
      "Downloading nltk-3.9.1-py3-none-any.whl (1.5 MB)\n",
      "   ---------------------------------------- 0.0/1.5 MB ? eta -:--:--\n",
      "   - -------------------------------------- 0.1/1.5 MB 1.6 MB/s eta 0:00:01\n",
      "   -- ------------------------------------- 0.1/1.5 MB 1.6 MB/s eta 0:00:01\n",
      "   -- ------------------------------------- 0.1/1.5 MB 1.6 MB/s eta 0:00:01\n",
      "   -- ------------------------------------- 0.1/1.5 MB 1.6 MB/s eta 0:00:01\n",
      "   --- ------------------------------------ 0.1/1.5 MB 607.9 kB/s eta 0:00:03\n",
      "   ----- ---------------------------------- 0.2/1.5 MB 860.2 kB/s eta 0:00:02\n",
      "   ----- ---------------------------------- 0.2/1.5 MB 860.2 kB/s eta 0:00:02\n",
      "   ------ --------------------------------- 0.2/1.5 MB 715.9 kB/s eta 0:00:02\n",
      "   ------ --------------------------------- 0.3/1.5 MB 655.4 kB/s eta 0:00:02\n",
      "   -------- ------------------------------- 0.3/1.5 MB 721.8 kB/s eta 0:00:02\n",
      "   ------------ --------------------------- 0.5/1.5 MB 921.6 kB/s eta 0:00:02\n",
      "   ------------- -------------------------- 0.5/1.5 MB 923.9 kB/s eta 0:00:02\n",
      "   ------------- -------------------------- 0.5/1.5 MB 884.3 kB/s eta 0:00:02\n",
      "   ----------------- ---------------------- 0.6/1.5 MB 1.0 MB/s eta 0:00:01\n",
      "   ---------------------- ----------------- 0.8/1.5 MB 1.2 MB/s eta 0:00:01\n",
      "   ------------------------- -------------- 1.0/1.5 MB 1.3 MB/s eta 0:00:01\n",
      "   ---------------------------- ----------- 1.1/1.5 MB 1.4 MB/s eta 0:00:01\n",
      "   ---------------------------------- ----- 1.3/1.5 MB 1.6 MB/s eta 0:00:01\n",
      "   -------------------------------------- - 1.5/1.5 MB 1.7 MB/s eta 0:00:01\n",
      "   ---------------------------------------  1.5/1.5 MB 1.7 MB/s eta 0:00:01\n",
      "   ---------------------------------------- 1.5/1.5 MB 1.6 MB/s eta 0:00:00\n",
      "Downloading datasets-3.1.0-py3-none-any.whl (480 kB)\n",
      "   ---------------------------------------- 0.0/480.6 kB ? eta -:--:--\n",
      "   ------------------ -------------------- 225.3/480.6 kB 13.4 MB/s eta 0:00:01\n",
      "   ---------------------------------------  471.0/480.6 kB 7.3 MB/s eta 0:00:01\n",
      "   ---------------------------------------- 480.6/480.6 kB 6.0 MB/s eta 0:00:00\n",
      "Downloading dill-0.3.8-py3-none-any.whl (116 kB)\n",
      "   ---------------------------------------- 0.0/116.3 kB ? eta -:--:--\n",
      "   ---------------------------------------- 116.3/116.3 kB 3.4 MB/s eta 0:00:00\n",
      "Downloading fsspec-2024.9.0-py3-none-any.whl (179 kB)\n",
      "   ---------------------------------------- 0.0/179.3 kB ? eta -:--:--\n",
      "   ---------------------------------------- 179.3/179.3 kB 5.5 MB/s eta 0:00:00\n",
      "Downloading aiohttp-3.11.4-cp312-cp312-win_amd64.whl (436 kB)\n",
      "   ---------------------------------------- 0.0/436.4 kB ? eta -:--:--\n",
      "   --------------- ------------------------ 174.1/436.4 kB 5.1 MB/s eta 0:00:01\n",
      "   ---------------------------------------  430.1/436.4 kB 5.3 MB/s eta 0:00:01\n",
      "   ---------------------------------------- 436.4/436.4 kB 3.9 MB/s eta 0:00:00\n",
      "Downloading huggingface_hub-0.26.2-py3-none-any.whl (447 kB)\n",
      "   ---------------------------------------- 0.0/447.5 kB ? eta -:--:--\n",
      "   ---------- ----------------------------- 122.9/447.5 kB 3.6 MB/s eta 0:00:01\n",
      "   --------------------------- ------------ 307.2/447.5 kB 3.8 MB/s eta 0:00:01\n",
      "   ---------------------------------------- 447.5/447.5 kB 3.5 MB/s eta 0:00:00\n",
      "Downloading multiprocess-0.70.16-py312-none-any.whl (146 kB)\n",
      "   ---------------------------------------- 0.0/146.7 kB ? eta -:--:--\n",
      "   ---------------------------------------- 146.7/146.7 kB 2.9 MB/s eta 0:00:00\n",
      "Downloading pyarrow-18.0.0-cp312-cp312-win_amd64.whl (25.1 MB)\n",
      "   ---------------------------------------- 0.0/25.1 MB ? eta -:--:--\n",
      "   ---------------------------------------- 0.1/25.1 MB 4.5 MB/s eta 0:00:06\n",
      "   ---------------------------------------- 0.1/25.1 MB 1.7 MB/s eta 0:00:15\n",
      "   ---------------------------------------- 0.2/25.1 MB 1.6 MB/s eta 0:00:16\n",
      "    --------------------------------------- 0.4/25.1 MB 2.4 MB/s eta 0:00:11\n",
      "    --------------------------------------- 0.5/25.1 MB 2.5 MB/s eta 0:00:10\n",
      "    --------------------------------------- 0.5/25.1 MB 2.1 MB/s eta 0:00:12\n",
      "    --------------------------------------- 0.6/25.1 MB 2.0 MB/s eta 0:00:13\n",
      "   - -------------------------------------- 0.6/25.1 MB 2.0 MB/s eta 0:00:13\n",
      "   - -------------------------------------- 0.8/25.1 MB 1.9 MB/s eta 0:00:13\n",
      "   - -------------------------------------- 0.8/25.1 MB 1.9 MB/s eta 0:00:14\n",
      "   - -------------------------------------- 0.9/25.1 MB 2.0 MB/s eta 0:00:13\n",
      "   - -------------------------------------- 1.0/25.1 MB 1.9 MB/s eta 0:00:13\n",
      "   - -------------------------------------- 1.2/25.1 MB 2.0 MB/s eta 0:00:13\n",
      "   -- ------------------------------------- 1.3/25.1 MB 2.0 MB/s eta 0:00:12\n",
      "   -- ------------------------------------- 1.5/25.1 MB 2.2 MB/s eta 0:00:11\n",
      "   -- ------------------------------------- 1.6/25.1 MB 2.2 MB/s eta 0:00:11\n",
      "   -- ------------------------------------- 1.7/25.1 MB 2.2 MB/s eta 0:00:11\n",
      "   -- ------------------------------------- 1.7/25.1 MB 2.2 MB/s eta 0:00:11\n",
      "   -- ------------------------------------- 1.7/25.1 MB 2.0 MB/s eta 0:00:12\n",
      "   -- ------------------------------------- 1.7/25.1 MB 1.9 MB/s eta 0:00:13\n",
      "   -- ------------------------------------- 1.8/25.1 MB 1.9 MB/s eta 0:00:13\n",
      "   --- ------------------------------------ 1.9/25.1 MB 1.9 MB/s eta 0:00:13\n",
      "   --- ------------------------------------ 1.9/25.1 MB 1.9 MB/s eta 0:00:13\n",
      "   --- ------------------------------------ 2.0/25.1 MB 1.8 MB/s eta 0:00:13\n",
      "   --- ------------------------------------ 2.1/25.1 MB 1.8 MB/s eta 0:00:13\n",
      "   --- ------------------------------------ 2.2/25.1 MB 1.9 MB/s eta 0:00:13\n",
      "   --- ------------------------------------ 2.2/25.1 MB 1.9 MB/s eta 0:00:13\n",
      "   --- ------------------------------------ 2.3/25.1 MB 1.8 MB/s eta 0:00:13\n",
      "   --- ------------------------------------ 2.3/25.1 MB 1.8 MB/s eta 0:00:13\n",
      "   --- ------------------------------------ 2.3/25.1 MB 1.8 MB/s eta 0:00:13\n",
      "   --- ------------------------------------ 2.3/25.1 MB 1.8 MB/s eta 0:00:13\n",
      "   --- ------------------------------------ 2.3/25.1 MB 1.8 MB/s eta 0:00:13\n",
      "   --- ------------------------------------ 2.3/25.1 MB 1.8 MB/s eta 0:00:13\n",
      "   --- ------------------------------------ 2.3/25.1 MB 1.8 MB/s eta 0:00:13\n",
      "   --- ------------------------------------ 2.3/25.1 MB 1.4 MB/s eta 0:00:16\n",
      "   --- ------------------------------------ 2.3/25.1 MB 1.4 MB/s eta 0:00:16\n",
      "   --- ------------------------------------ 2.4/25.1 MB 1.4 MB/s eta 0:00:16\n",
      "   ---- ----------------------------------- 2.5/25.1 MB 1.4 MB/s eta 0:00:16\n",
      "   ---- ----------------------------------- 2.6/25.1 MB 1.4 MB/s eta 0:00:16\n",
      "   ---- ----------------------------------- 2.6/25.1 MB 1.4 MB/s eta 0:00:16\n",
      "   ---- ----------------------------------- 2.7/25.1 MB 1.4 MB/s eta 0:00:16\n",
      "   ---- ----------------------------------- 2.8/25.1 MB 1.4 MB/s eta 0:00:16\n",
      "   ---- ----------------------------------- 2.8/25.1 MB 1.4 MB/s eta 0:00:16\n",
      "   ---- ----------------------------------- 2.8/25.1 MB 1.4 MB/s eta 0:00:16\n",
      "   ---- ----------------------------------- 2.9/25.1 MB 1.4 MB/s eta 0:00:16\n",
      "   ---- ----------------------------------- 3.0/25.1 MB 1.4 MB/s eta 0:00:16\n",
      "   ---- ----------------------------------- 3.1/25.1 MB 1.4 MB/s eta 0:00:16\n",
      "   ----- ---------------------------------- 3.1/25.1 MB 1.4 MB/s eta 0:00:16\n",
      "   ----- ---------------------------------- 3.2/25.1 MB 1.4 MB/s eta 0:00:16\n",
      "   ----- ---------------------------------- 3.2/25.1 MB 1.4 MB/s eta 0:00:16\n",
      "   ----- ---------------------------------- 3.2/25.1 MB 1.4 MB/s eta 0:00:16\n",
      "   ----- ---------------------------------- 3.2/25.1 MB 1.4 MB/s eta 0:00:16\n",
      "   ----- ---------------------------------- 3.2/25.1 MB 1.4 MB/s eta 0:00:16\n",
      "   ----- ---------------------------------- 3.2/25.1 MB 1.4 MB/s eta 0:00:16\n",
      "   ----- ---------------------------------- 3.2/25.1 MB 1.4 MB/s eta 0:00:16\n",
      "   ----- ---------------------------------- 3.2/25.1 MB 1.4 MB/s eta 0:00:16\n",
      "   ----- ---------------------------------- 3.2/25.1 MB 1.4 MB/s eta 0:00:16\n",
      "   ----- ---------------------------------- 3.2/25.1 MB 1.4 MB/s eta 0:00:16\n",
      "   ----- ---------------------------------- 3.2/25.1 MB 1.4 MB/s eta 0:00:16\n",
      "   ----- ---------------------------------- 3.2/25.1 MB 1.4 MB/s eta 0:00:16\n",
      "   ----- ---------------------------------- 3.2/25.1 MB 1.4 MB/s eta 0:00:16\n",
      "   ----- ---------------------------------- 3.2/25.1 MB 1.4 MB/s eta 0:00:16\n",
      "   ----- ---------------------------------- 3.2/25.1 MB 1.4 MB/s eta 0:00:16\n",
      "   ----- ---------------------------------- 3.2/25.1 MB 1.4 MB/s eta 0:00:16\n",
      "   ----- ---------------------------------- 3.2/25.1 MB 1.4 MB/s eta 0:00:16\n",
      "   ----- ---------------------------------- 3.2/25.1 MB 1.4 MB/s eta 0:00:16\n",
      "   ----- ---------------------------------- 3.2/25.1 MB 1.4 MB/s eta 0:00:16\n",
      "   ----- ---------------------------------- 3.2/25.1 MB 1.4 MB/s eta 0:00:16\n",
      "   ----- ---------------------------------- 3.2/25.1 MB 1.0 MB/s eta 0:00:22\n",
      "   ----- ---------------------------------- 3.7/25.1 MB 1.1 MB/s eta 0:00:19\n",
      "   ----- ---------------------------------- 3.7/25.1 MB 1.1 MB/s eta 0:00:19\n",
      "   ----- ---------------------------------- 3.7/25.1 MB 1.1 MB/s eta 0:00:19\n",
      "   ----- ---------------------------------- 3.7/25.1 MB 1.1 MB/s eta 0:00:20\n",
      "   ------ --------------------------------- 3.8/25.1 MB 1.1 MB/s eta 0:00:19\n",
      "   ------ --------------------------------- 3.9/25.1 MB 1.1 MB/s eta 0:00:19\n",
      "   -------- ------------------------------- 5.2/25.1 MB 1.5 MB/s eta 0:00:14\n",
      "   -------- ------------------------------- 5.3/25.1 MB 1.5 MB/s eta 0:00:14\n",
      "   -------- ------------------------------- 5.3/25.1 MB 1.5 MB/s eta 0:00:14\n",
      "   -------- ------------------------------- 5.4/25.1 MB 1.5 MB/s eta 0:00:14\n",
      "   -------- ------------------------------- 5.4/25.1 MB 1.5 MB/s eta 0:00:14\n",
      "   -------- ------------------------------- 5.4/25.1 MB 1.5 MB/s eta 0:00:14\n",
      "   -------- ------------------------------- 5.4/25.1 MB 1.4 MB/s eta 0:00:14\n",
      "   -------- ------------------------------- 5.5/25.1 MB 1.4 MB/s eta 0:00:14\n",
      "   -------- ------------------------------- 5.6/25.1 MB 1.4 MB/s eta 0:00:14\n",
      "   --------- ------------------------------ 5.7/25.1 MB 1.5 MB/s eta 0:00:14\n",
      "   --------- ------------------------------ 5.9/25.1 MB 1.5 MB/s eta 0:00:13\n",
      "   --------- ------------------------------ 6.0/25.1 MB 1.5 MB/s eta 0:00:13\n",
      "   --------- ------------------------------ 6.1/25.1 MB 1.5 MB/s eta 0:00:13\n",
      "   --------- ------------------------------ 6.2/25.1 MB 1.5 MB/s eta 0:00:13\n",
      "   ---------- ----------------------------- 6.4/25.1 MB 1.5 MB/s eta 0:00:13\n",
      "   ---------- ----------------------------- 6.5/25.1 MB 1.5 MB/s eta 0:00:13\n",
      "   ---------- ----------------------------- 6.6/25.1 MB 1.6 MB/s eta 0:00:12\n",
      "   ---------- ----------------------------- 6.8/25.1 MB 1.6 MB/s eta 0:00:12\n",
      "   ----------- ---------------------------- 6.9/25.1 MB 1.6 MB/s eta 0:00:12\n",
      "   ----------- ---------------------------- 7.0/25.1 MB 1.6 MB/s eta 0:00:12\n",
      "   ----------- ---------------------------- 7.1/25.1 MB 1.6 MB/s eta 0:00:12\n",
      "   ----------- ---------------------------- 7.1/25.1 MB 1.6 MB/s eta 0:00:12\n",
      "   ----------- ---------------------------- 7.3/25.1 MB 1.6 MB/s eta 0:00:12\n",
      "   ----------- ---------------------------- 7.4/25.1 MB 1.6 MB/s eta 0:00:12\n",
      "   ------------ --------------------------- 7.6/25.1 MB 1.6 MB/s eta 0:00:11\n",
      "   ------------ --------------------------- 7.6/25.1 MB 1.6 MB/s eta 0:00:11\n",
      "   ------------ --------------------------- 7.8/25.1 MB 1.6 MB/s eta 0:00:11\n",
      "   ------------ --------------------------- 7.9/25.1 MB 1.7 MB/s eta 0:00:11\n",
      "   ------------ --------------------------- 8.0/25.1 MB 1.7 MB/s eta 0:00:11\n",
      "   ------------- -------------------------- 8.2/25.1 MB 1.7 MB/s eta 0:00:11\n",
      "   ------------- -------------------------- 8.3/25.1 MB 1.7 MB/s eta 0:00:10\n",
      "   ------------- -------------------------- 8.4/25.1 MB 1.7 MB/s eta 0:00:10\n",
      "   ------------- -------------------------- 8.5/25.1 MB 1.7 MB/s eta 0:00:10\n",
      "   ------------- -------------------------- 8.6/25.1 MB 1.7 MB/s eta 0:00:10\n",
      "   ------------- -------------------------- 8.7/25.1 MB 1.7 MB/s eta 0:00:10\n",
      "   -------------- ------------------------- 8.8/25.1 MB 1.7 MB/s eta 0:00:10\n",
      "   -------------- ------------------------- 8.9/25.1 MB 1.7 MB/s eta 0:00:10\n",
      "   -------------- ------------------------- 8.9/25.1 MB 1.7 MB/s eta 0:00:10\n",
      "   -------------- ------------------------- 9.1/25.1 MB 1.7 MB/s eta 0:00:10\n",
      "   -------------- ------------------------- 9.3/25.1 MB 1.7 MB/s eta 0:00:10\n",
      "   --------------- ------------------------ 9.6/25.1 MB 1.8 MB/s eta 0:00:09\n",
      "   --------------- ------------------------ 9.7/25.1 MB 1.8 MB/s eta 0:00:09\n",
      "   --------------- ------------------------ 9.9/25.1 MB 1.8 MB/s eta 0:00:09\n",
      "   ---------------- ----------------------- 10.0/25.1 MB 1.8 MB/s eta 0:00:09\n",
      "   ---------------- ----------------------- 10.2/25.1 MB 1.8 MB/s eta 0:00:09\n",
      "   ---------------- ----------------------- 10.3/25.1 MB 1.8 MB/s eta 0:00:09\n",
      "   ---------------- ----------------------- 10.5/25.1 MB 1.8 MB/s eta 0:00:08\n",
      "   ---------------- ----------------------- 10.6/25.1 MB 1.8 MB/s eta 0:00:08\n",
      "   ----------------- ---------------------- 10.7/25.1 MB 1.8 MB/s eta 0:00:08\n",
      "   ----------------- ---------------------- 10.8/25.1 MB 1.9 MB/s eta 0:00:08\n",
      "   ----------------- ---------------------- 11.0/25.1 MB 1.9 MB/s eta 0:00:08\n",
      "   ----------------- ---------------------- 11.2/25.1 MB 1.9 MB/s eta 0:00:08\n",
      "   ------------------ --------------------- 11.4/25.1 MB 1.9 MB/s eta 0:00:08\n",
      "   ------------------ --------------------- 11.5/25.1 MB 1.9 MB/s eta 0:00:08\n",
      "   ------------------ --------------------- 11.8/25.1 MB 1.9 MB/s eta 0:00:07\n",
      "   ------------------- -------------------- 12.0/25.1 MB 2.0 MB/s eta 0:00:07\n",
      "   ------------------- -------------------- 12.3/25.1 MB 2.0 MB/s eta 0:00:07\n",
      "   ------------------- -------------------- 12.4/25.1 MB 2.1 MB/s eta 0:00:07\n",
      "   -------------------- ------------------- 12.6/25.1 MB 2.2 MB/s eta 0:00:06\n",
      "   -------------------- ------------------- 12.6/25.1 MB 2.2 MB/s eta 0:00:06\n",
      "   -------------------- ------------------- 12.8/25.1 MB 2.3 MB/s eta 0:00:06\n",
      "   -------------------- ------------------- 13.0/25.1 MB 2.3 MB/s eta 0:00:06\n",
      "   --------------------- ------------------ 13.2/25.1 MB 2.4 MB/s eta 0:00:06\n",
      "   --------------------- ------------------ 13.4/25.1 MB 3.1 MB/s eta 0:00:04\n",
      "   --------------------- ------------------ 13.6/25.1 MB 3.1 MB/s eta 0:00:04\n",
      "   ---------------------- ----------------- 13.8/25.1 MB 3.1 MB/s eta 0:00:04\n",
      "   ---------------------- ----------------- 14.0/25.1 MB 3.2 MB/s eta 0:00:04\n",
      "   ---------------------- ----------------- 14.3/25.1 MB 3.2 MB/s eta 0:00:04\n",
      "   ---------------------- ----------------- 14.4/25.1 MB 3.2 MB/s eta 0:00:04\n",
      "   ----------------------- ---------------- 14.6/25.1 MB 3.1 MB/s eta 0:00:04\n",
      "   ----------------------- ---------------- 14.9/25.1 MB 3.1 MB/s eta 0:00:04\n",
      "   ------------------------ --------------- 15.1/25.1 MB 3.0 MB/s eta 0:00:04\n",
      "   ------------------------ --------------- 15.3/25.1 MB 3.0 MB/s eta 0:00:04\n",
      "   ------------------------ --------------- 15.6/25.1 MB 3.2 MB/s eta 0:00:03\n",
      "   ------------------------- -------------- 15.8/25.1 MB 3.3 MB/s eta 0:00:03\n",
      "   ------------------------- -------------- 16.1/25.1 MB 3.4 MB/s eta 0:00:03\n",
      "   ------------------------- -------------- 16.3/25.1 MB 3.4 MB/s eta 0:00:03\n",
      "   -------------------------- ------------- 16.5/25.1 MB 3.4 MB/s eta 0:00:03\n",
      "   -------------------------- ------------- 16.7/25.1 MB 3.5 MB/s eta 0:00:03\n",
      "   -------------------------- ------------- 16.9/25.1 MB 3.5 MB/s eta 0:00:03\n",
      "   --------------------------- ------------ 17.2/25.1 MB 3.6 MB/s eta 0:00:03\n",
      "   --------------------------- ------------ 17.4/25.1 MB 3.7 MB/s eta 0:00:03\n",
      "   ---------------------------- ----------- 17.7/25.1 MB 3.8 MB/s eta 0:00:02\n",
      "   ---------------------------- ----------- 17.9/25.1 MB 3.8 MB/s eta 0:00:02\n",
      "   ---------------------------- ----------- 18.1/25.1 MB 3.9 MB/s eta 0:00:02\n",
      "   ----------------------------- ---------- 18.3/25.1 MB 3.9 MB/s eta 0:00:02\n",
      "   ----------------------------- ---------- 18.6/25.1 MB 4.0 MB/s eta 0:00:02\n",
      "   ----------------------------- ---------- 18.7/25.1 MB 4.0 MB/s eta 0:00:02\n",
      "   ------------------------------ --------- 18.9/25.1 MB 4.1 MB/s eta 0:00:02\n",
      "   ------------------------------ --------- 19.0/25.1 MB 4.1 MB/s eta 0:00:02\n",
      "   ------------------------------ --------- 19.0/25.1 MB 4.1 MB/s eta 0:00:02\n",
      "   ------------------------------ --------- 19.2/25.1 MB 4.1 MB/s eta 0:00:02\n",
      "   ------------------------------ --------- 19.4/25.1 MB 4.1 MB/s eta 0:00:02\n",
      "   ------------------------------ --------- 19.4/25.1 MB 4.1 MB/s eta 0:00:02\n",
      "   ------------------------------ --------- 19.4/25.1 MB 4.1 MB/s eta 0:00:02\n",
      "   ------------------------------ --------- 19.4/25.1 MB 4.1 MB/s eta 0:00:02\n",
      "   ------------------------------ --------- 19.4/25.1 MB 4.1 MB/s eta 0:00:02\n",
      "   ------------------------------- -------- 19.6/25.1 MB 3.8 MB/s eta 0:00:02\n",
      "   ------------------------------- -------- 19.8/25.1 MB 3.9 MB/s eta 0:00:02\n",
      "   ------------------------------- -------- 19.9/25.1 MB 3.9 MB/s eta 0:00:02\n",
      "   -------------------------------- ------- 20.2/25.1 MB 3.9 MB/s eta 0:00:02\n",
      "   -------------------------------- ------- 20.4/25.1 MB 3.9 MB/s eta 0:00:02\n",
      "   --------------------------------- ------ 20.7/25.1 MB 4.0 MB/s eta 0:00:02\n",
      "   --------------------------------- ------ 21.0/25.1 MB 4.1 MB/s eta 0:00:01\n",
      "   --------------------------------- ------ 21.2/25.1 MB 4.1 MB/s eta 0:00:01\n",
      "   ---------------------------------- ----- 21.5/25.1 MB 4.1 MB/s eta 0:00:01\n",
      "   ---------------------------------- ----- 21.7/25.1 MB 4.2 MB/s eta 0:00:01\n",
      "   ----------------------------------- ---- 22.0/25.1 MB 4.2 MB/s eta 0:00:01\n",
      "   ----------------------------------- ---- 22.0/25.1 MB 4.2 MB/s eta 0:00:01\n",
      "   ----------------------------------- ---- 22.2/25.1 MB 4.1 MB/s eta 0:00:01\n",
      "   ----------------------------------- ---- 22.4/25.1 MB 4.1 MB/s eta 0:00:01\n",
      "   ------------------------------------ --- 22.7/25.1 MB 4.1 MB/s eta 0:00:01\n",
      "   ------------------------------------ --- 22.9/25.1 MB 4.3 MB/s eta 0:00:01\n",
      "   ------------------------------------- -- 23.3/25.1 MB 4.3 MB/s eta 0:00:01\n",
      "   ------------------------------------- -- 23.5/25.1 MB 4.3 MB/s eta 0:00:01\n",
      "   ------------------------------------- -- 23.6/25.1 MB 4.3 MB/s eta 0:00:01\n",
      "   ------------------------------------- -- 23.8/25.1 MB 4.3 MB/s eta 0:00:01\n",
      "   -------------------------------------- - 24.0/25.1 MB 4.3 MB/s eta 0:00:01\n",
      "   -------------------------------------- - 24.1/25.1 MB 4.3 MB/s eta 0:00:01\n",
      "   -------------------------------------- - 24.4/25.1 MB 4.2 MB/s eta 0:00:01\n",
      "   ---------------------------------------  24.6/25.1 MB 4.3 MB/s eta 0:00:01\n",
      "   ---------------------------------------  24.9/25.1 MB 4.3 MB/s eta 0:00:01\n",
      "   ---------------------------------------  25.1/25.1 MB 4.3 MB/s eta 0:00:01\n",
      "   ---------------------------------------  25.1/25.1 MB 4.3 MB/s eta 0:00:01\n",
      "   ---------------------------------------- 25.1/25.1 MB 4.1 MB/s eta 0:00:00\n",
      "Downloading regex-2024.11.6-cp312-cp312-win_amd64.whl (273 kB)\n",
      "   ---------------------------------------- 0.0/273.6 kB ? eta -:--:--\n",
      "   ----------------------------------- ---- 245.8/273.6 kB 7.6 MB/s eta 0:00:01\n",
      "   ---------------------------------------- 273.6/273.6 kB 4.2 MB/s eta 0:00:00\n",
      "Downloading click-8.1.7-py3-none-any.whl (97 kB)\n",
      "   ---------------------------------------- 0.0/97.9 kB ? eta -:--:--\n",
      "   ---------------------------------------- 97.9/97.9 kB 5.5 MB/s eta 0:00:00\n",
      "Downloading xxhash-3.5.0-cp312-cp312-win_amd64.whl (30 kB)\n",
      "Downloading aiohappyeyeballs-2.4.3-py3-none-any.whl (14 kB)\n",
      "Downloading aiosignal-1.3.1-py3-none-any.whl (7.6 kB)\n",
      "Downloading frozenlist-1.5.0-cp312-cp312-win_amd64.whl (51 kB)\n",
      "   ---------------------------------------- 0.0/51.3 kB ? eta -:--:--\n",
      "   ---------------------------------------- 51.3/51.3 kB 2.6 MB/s eta 0:00:00\n",
      "Downloading multidict-6.1.0-cp312-cp312-win_amd64.whl (28 kB)\n",
      "Downloading propcache-0.2.0-cp312-cp312-win_amd64.whl (44 kB)\n",
      "   ---------------------------------------- 0.0/44.4 kB ? eta -:--:--\n",
      "   ---------------------------------------- 44.4/44.4 kB 2.3 MB/s eta 0:00:00\n",
      "Downloading typing_extensions-4.12.2-py3-none-any.whl (37 kB)\n",
      "Downloading yarl-1.17.2-cp312-cp312-win_amd64.whl (89 kB)\n",
      "   ---------------------------------------- 0.0/89.9 kB ? eta -:--:--\n",
      "   ---------------------------------------- 89.9/89.9 kB 5.0 MB/s eta 0:00:00\n",
      "Installing collected packages: xxhash, typing-extensions, regex, pyarrow, propcache, multidict, fsspec, frozenlist, dill, click, aiohappyeyeballs, yarl, nltk, multiprocess, huggingface-hub, aiosignal, aiohttp, datasets\n",
      "Successfully installed aiohappyeyeballs-2.4.3 aiohttp-3.11.4 aiosignal-1.3.1 click-8.1.7 datasets-3.1.0 dill-0.3.8 frozenlist-1.5.0 fsspec-2024.9.0 huggingface-hub-0.26.2 multidict-6.1.0 multiprocess-0.70.16 nltk-3.9.1 propcache-0.2.0 pyarrow-18.0.0 regex-2024.11.6 typing-extensions-4.12.2 xxhash-3.5.0 yarl-1.17.2\n",
      "Note: you may need to restart the kernel to use updated packages.\n"
     ]
    },
    {
     "name": "stderr",
     "output_type": "stream",
     "text": [
      "\n",
      "[notice] A new release of pip is available: 24.1 -> 24.3.1\n",
      "[notice] To update, run: python.exe -m pip install --upgrade pip\n"
     ]
    }
   ],
   "source": [
    "pip install nltk datasets"
   ]
  },
  {
   "cell_type": "code",
   "execution_count": 2,
   "id": "ed441753-7954-4454-b617-b0bd6be331b5",
   "metadata": {},
   "outputs": [
    {
     "name": "stderr",
     "output_type": "stream",
     "text": [
      "[nltk_data] Downloading package punkt to\n",
      "[nltk_data]     C:\\Users\\Сергей\\AppData\\Roaming\\nltk_data...\n",
      "[nltk_data]   Unzipping tokenizers\\punkt.zip.\n",
      "[nltk_data] Downloading package stopwords to\n",
      "[nltk_data]     C:\\Users\\Сергей\\AppData\\Roaming\\nltk_data...\n",
      "[nltk_data]   Unzipping corpora\\stopwords.zip.\n"
     ]
    },
    {
     "data": {
      "text/plain": [
       "True"
      ]
     },
     "execution_count": 2,
     "metadata": {},
     "output_type": "execute_result"
    }
   ],
   "source": [
    "import re\n",
    "from datasets import load_dataset\n",
    "import nltk\n",
    "from nltk.corpus import stopwords\n",
    "from nltk.tokenize import word_tokenize\n",
    "from nltk.stem import PorterStemmer\n",
    "\n",
    "# Загрузка необходимых ресурсов NLTK\n",
    "nltk.download('punkt')\n",
    "nltk.download('stopwords')"
   ]
  },
  {
   "cell_type": "code",
   "execution_count": 3,
   "id": "c01aa289-f90f-4daf-992e-29650a925128",
   "metadata": {},
   "outputs": [
    {
     "data": {
      "application/vnd.jupyter.widget-view+json": {
       "model_id": "457a723c3f6349088a483bbad569f2ab",
       "version_major": 2,
       "version_minor": 0
      },
      "text/plain": [
       "README.md:   0%|          | 0.00/15.6k [00:00<?, ?B/s]"
      ]
     },
     "metadata": {},
     "output_type": "display_data"
    },
    {
     "data": {
      "application/vnd.jupyter.widget-view+json": {
       "model_id": "3f3445dedac44389934d2454b84a86b9",
       "version_major": 2,
       "version_minor": 0
      },
      "text/plain": [
       "train-00000-of-00003.parquet:   0%|          | 0.00/257M [00:00<?, ?B/s]"
      ]
     },
     "metadata": {},
     "output_type": "display_data"
    },
    {
     "data": {
      "application/vnd.jupyter.widget-view+json": {
       "model_id": "32e4e15ed7df499db97309da1b7bff79",
       "version_major": 2,
       "version_minor": 0
      },
      "text/plain": [
       "train-00001-of-00003.parquet:   0%|          | 0.00/257M [00:00<?, ?B/s]"
      ]
     },
     "metadata": {},
     "output_type": "display_data"
    },
    {
     "data": {
      "application/vnd.jupyter.widget-view+json": {
       "model_id": "1e5cfe4d26984267822356d0622df211",
       "version_major": 2,
       "version_minor": 0
      },
      "text/plain": [
       "train-00002-of-00003.parquet:   0%|          | 0.00/259M [00:00<?, ?B/s]"
      ]
     },
     "metadata": {},
     "output_type": "display_data"
    },
    {
     "data": {
      "application/vnd.jupyter.widget-view+json": {
       "model_id": "0d549e90609148149e8e830111aa1392",
       "version_major": 2,
       "version_minor": 0
      },
      "text/plain": [
       "validation-00000-of-00001.parquet:   0%|          | 0.00/34.7M [00:00<?, ?B/s]"
      ]
     },
     "metadata": {},
     "output_type": "display_data"
    },
    {
     "data": {
      "application/vnd.jupyter.widget-view+json": {
       "model_id": "f5149a6932da448bbd8f099b35248883",
       "version_major": 2,
       "version_minor": 0
      },
      "text/plain": [
       "test-00000-of-00001.parquet:   0%|          | 0.00/30.0M [00:00<?, ?B/s]"
      ]
     },
     "metadata": {},
     "output_type": "display_data"
    },
    {
     "data": {
      "application/vnd.jupyter.widget-view+json": {
       "model_id": "77ad6ee7538342b48d71fbd9ca0b2bca",
       "version_major": 2,
       "version_minor": 0
      },
      "text/plain": [
       "Generating train split:   0%|          | 0/287113 [00:00<?, ? examples/s]"
      ]
     },
     "metadata": {},
     "output_type": "display_data"
    },
    {
     "data": {
      "application/vnd.jupyter.widget-view+json": {
       "model_id": "e2ebc93a392e4392b5e965a0de7036a1",
       "version_major": 2,
       "version_minor": 0
      },
      "text/plain": [
       "Generating validation split:   0%|          | 0/13368 [00:00<?, ? examples/s]"
      ]
     },
     "metadata": {},
     "output_type": "display_data"
    },
    {
     "data": {
      "application/vnd.jupyter.widget-view+json": {
       "model_id": "f61feae8740941ef915e12d98fff3014",
       "version_major": 2,
       "version_minor": 0
      },
      "text/plain": [
       "Generating test split:   0%|          | 0/11490 [00:00<?, ? examples/s]"
      ]
     },
     "metadata": {},
     "output_type": "display_data"
    }
   ],
   "source": [
    "dataset = load_dataset(\"cnn_dailymail\", \"3.0.0\", split=\"train\")"
   ]
  },
  {
   "cell_type": "markdown",
   "id": "96b6f0b7-de68-4f0b-9456-523bf71bf7c8",
   "metadata": {},
   "source": [
    "## Реализация функции для предобработки текстовых данных"
   ]
  },
  {
   "cell_type": "code",
   "execution_count": 8,
   "id": "2dcb1ff9-c194-47c8-9661-e1dfb3523738",
   "metadata": {},
   "outputs": [],
   "source": [
    "def preprocess_text(text):\n",
    "    # 1. Приведение к нижнему регистру\n",
    "    text = text.lower()\n",
    "\n",
    "    # 2. Удаление лишних пробелов\n",
    "    text = re.sub(r'\\s+', ' ', text).strip()\n",
    "\n",
    "    # 3. Удаление цифр\n",
    "    text = re.sub(r'\\d+', '', text)\n",
    "\n",
    "    # 4. Удаление знаков препинания\n",
    "    text = re.sub(r'[^\\w\\s]', '', text)\n",
    "\n",
    "    # 5. Удаление URL-ссылок\n",
    "    text = re.sub(r'http\\S+|www\\S+', '', text)\n",
    "\n",
    "    # 6. Токенизация (на основе регулярного выражения)\n",
    "    tokens = re.findall(r'\\b\\w+\\b', text)\n",
    "\n",
    "    # 7. Удаление стоп-слов\n",
    "    stop_words = set(stopwords.words('english'))\n",
    "    tokens = [word for word in tokens if word not in stop_words]\n",
    "\n",
    "    # 8. Стэмминг\n",
    "    stemmer = PorterStemmer()\n",
    "    tokens = [stemmer.stem(word) for word in tokens]\n",
    "\n",
    "    # Соединение обработанных токенов обратно в строку\n",
    "    return \" \".join(tokens)"
   ]
  },
  {
   "cell_type": "code",
   "execution_count": 9,
   "id": "93cc8a30-d6f1-411b-b29b-694398a0ce83",
   "metadata": {},
   "outputs": [
    {
     "name": "stdout",
     "output_type": "stream",
     "text": [
      "Пример данных: {'article': 'LONDON, England (Reuters) -- Harry Potter star Daniel Radcliffe gains access to a reported £20 million ($41.1 million) fortune as he turns 18 on Monday, but he insists the money won\\'t cast a spell on him. Daniel Radcliffe as Harry Potter in \"Harry Potter and the Order of the Phoenix\" To the disappointment of gossip columnists around the world, the young actor says he has no plans to fritter his cash away on fast cars, drink and celebrity parties. \"I don\\'t plan to be one of those people who, as soon as they turn 18, suddenly buy themselves a massive sports car collection or something similar,\" he told an Australian interviewer earlier this month. \"I don\\'t think I\\'ll be particularly extravagant. \"The things I like buying are things that cost about 10 pounds -- books and CDs and DVDs.\" At 18, Radcliffe will be able to gamble in a casino, buy a drink in a pub or see the horror film \"Hostel: Part II,\" currently six places below his number one movie on the UK box office chart. Details of how he\\'ll mark his landmark birthday are under wraps. His agent and publicist had no comment on his plans. \"I\\'ll definitely have some sort of party,\" he said in an interview. \"Hopefully none of you will be reading about it.\" Radcliffe\\'s earnings from the first five Potter films have been held in a trust fund which he has not been able to touch. Despite his growing fame and riches, the actor says he is keeping his feet firmly on the ground. \"People are always looking to say \\'kid star goes off the rails,\\'\" he told reporters last month. \"But I try very hard not to go that way because it would be too easy for them.\" His latest outing as the boy wizard in \"Harry Potter and the Order of the Phoenix\" is breaking records on both sides of the Atlantic and he will reprise the role in the last two films.  Watch I-Reporter give her review of Potter\\'s latest » . There is life beyond Potter, however. The Londoner has filmed a TV movie called \"My Boy Jack,\" about author Rudyard Kipling and his son, due for release later this year. He will also appear in \"December Boys,\" an Australian film about four boys who escape an orphanage. Earlier this year, he made his stage debut playing a tortured teenager in Peter Shaffer\\'s \"Equus.\" Meanwhile, he is braced for even closer media scrutiny now that he\\'s legally an adult: \"I just think I\\'m going to be more sort of fair game,\" he told Reuters. E-mail to a friend . Copyright 2007 Reuters. All rights reserved.This material may not be published, broadcast, rewritten, or redistributed.', 'highlights': \"Harry Potter star Daniel Radcliffe gets £20M fortune as he turns 18 Monday .\\nYoung actor says he has no plans to fritter his cash away .\\nRadcliffe's earnings from first five Potter films have been held in trust fund .\", 'id': '42c027e4ff9730fbb3de84c1af0d2c506e41c3e4'}\n"
     ]
    }
   ],
   "source": [
    "print(f\"Пример данных: {dataset[0]}\")"
   ]
  },
  {
   "cell_type": "code",
   "execution_count": 10,
   "id": "5514d08a-f3d9-4ea6-9457-f8f2e115f1bc",
   "metadata": {},
   "outputs": [
    {
     "name": "stdout",
     "output_type": "stream",
     "text": [
      "Длина исходного текста: 358630 символов\n",
      "Длина обработанного текста: 216375 символов\n",
      "Первые 100 слов обработанного текста: ['london', 'england', 'reuter', 'harri', 'potter', 'star', 'daniel', 'radcliff', 'gain', 'access', 'report', 'million', 'million', 'fortun', 'turn', 'monday', 'insist', 'money', 'wont', 'cast', 'spell', 'daniel', 'radcliff', 'harri', 'potter', 'harri', 'potter', 'order', 'phoenix', 'disappoint', 'gossip', 'columnist', 'around', 'world', 'young', 'actor', 'say', 'plan', 'fritter', 'cash', 'away', 'fast', 'car', 'drink', 'celebr', 'parti', 'dont', 'plan', 'one', 'peopl', 'soon', 'turn', 'suddenli', 'buy', 'massiv', 'sport', 'car', 'collect', 'someth', 'similar', 'told', 'australian', 'interview', 'earlier', 'month', 'dont', 'think', 'ill', 'particularli', 'extravag', 'thing', 'like', 'buy', 'thing', 'cost', 'pound', 'book', 'cd', 'dvd', 'radcliff', 'abl', 'gambl', 'casino', 'buy', 'drink', 'pub', 'see', 'horror', 'film', 'hostel', 'part', 'ii', 'current', 'six', 'place', 'number', 'one', 'movi', 'uk', 'box']\n"
     ]
    }
   ],
   "source": [
    "texts = [item['article'] for item in dataset if 'article' in item]\n",
    "raw_text = \" \".join(texts[:100])\n",
    "\n",
    "processed_text = preprocess_text(raw_text)\n",
    "\n",
    "print(f\"Длина исходного текста: {len(raw_text)} символов\")\n",
    "print(f\"Длина обработанного текста: {len(processed_text)} символов\")\n",
    "print(f\"Первые 100 слов обработанного текста: {processed_text.split()[:100]}\")"
   ]
  },
  {
   "cell_type": "markdown",
   "id": "2f196f47-1947-4f90-a15b-189d16a6036c",
   "metadata": {},
   "source": [
    "## Создание Мешка слов и N - грамм"
   ]
  },
  {
   "cell_type": "code",
   "execution_count": 11,
   "id": "6cd0778f-511a-4d86-8e08-1d5147e1b4bc",
   "metadata": {},
   "outputs": [],
   "source": [
    "from collections import Counter\n",
    "from sklearn.feature_extraction.text import CountVectorizer\n",
    "\n",
    "def bag_of_words(text):\n",
    "    words = text.split()  # Разделяем текст на слова\n",
    "    return Counter(words)\n",
    "\n",
    "def generate_ngrams(text, n):\n",
    "    tokens = text.split()\n",
    "    ngrams = zip(*[tokens[i:] for i in range(n)])  # Создаем сдвиги для n-грамм\n",
    "    return [\" \".join(gram) for gram in ngrams]"
   ]
  },
  {
   "cell_type": "code",
   "execution_count": 13,
   "id": "29ccbe94-e2a7-4081-9a4f-4747ec96c2b0",
   "metadata": {},
   "outputs": [],
   "source": [
    "bow = bag_of_words(processed_text)\n",
    "bigrams = generate_ngrams(processed_text, 2)\n",
    "fourgrams = generate_ngrams(processed_text, 4)"
   ]
  },
  {
   "cell_type": "code",
   "execution_count": 16,
   "id": "f9066352-fe8b-4e1f-829b-98f93ed01887",
   "metadata": {},
   "outputs": [
    {
     "name": "stdout",
     "output_type": "stream",
     "text": [
      "Мешок слов:\n",
      "london: 34\n",
      "england: 25\n",
      "reuter: 23\n",
      "harri: 13\n",
      "potter: 7\n",
      "star: 16\n",
      "daniel: 3\n",
      "radcliff: 4\n",
      "gain: 4\n",
      "access: 11\n",
      "report: 109\n",
      "million: 49\n",
      "fortun: 4\n",
      "turn: 39\n",
      "monday: 26\n",
      "insist: 6\n",
      "money: 21\n",
      "wont: 7\n",
      "cast: 3\n",
      "spell: 1\n",
      "order: 22\n",
      "phoenix: 2\n",
      "disappoint: 4\n",
      "gossip: 1\n",
      "columnist: 2\n",
      "around: 29\n",
      "world: 62\n",
      "young: 26\n",
      "actor: 19\n",
      "say: 159\n"
     ]
    }
   ],
   "source": [
    "print(\"Мешок слов:\")\n",
    "for word, count in list(bow.items())[:30]:\n",
    "    print(f\"{word}: {count}\")"
   ]
  },
  {
   "cell_type": "code",
   "execution_count": 17,
   "id": "77ed8615-b4e0-4ebe-ab10-9ba723121ee0",
   "metadata": {},
   "outputs": [
    {
     "name": "stdout",
     "output_type": "stream",
     "text": [
      "\n",
      "2. Первые 10 2-грамм:\n",
      "london england\n",
      "england reuter\n",
      "reuter harri\n",
      "harri potter\n",
      "potter star\n",
      "star daniel\n",
      "daniel radcliff\n",
      "radcliff gain\n",
      "gain access\n",
      "access report\n",
      "\n",
      "3. Первые 10 4-грамм:\n",
      "london england reuter harri\n",
      "england reuter harri potter\n",
      "reuter harri potter star\n",
      "harri potter star daniel\n",
      "potter star daniel radcliff\n",
      "star daniel radcliff gain\n",
      "daniel radcliff gain access\n",
      "radcliff gain access report\n",
      "gain access report million\n",
      "access report million million\n"
     ]
    }
   ],
   "source": [
    "print(\"\\n2. Первые 10 2-грамм:\")\n",
    "print(\"\\n\".join(bigrams[:10]))\n",
    "\n",
    "print(\"\\n3. Первые 10 4-грамм:\")\n",
    "print(\"\\n\".join(fourgrams[:10]))"
   ]
  },
  {
   "cell_type": "code",
   "execution_count": null,
   "id": "a0bff936-0537-4cef-a2b6-e0ed948ff997",
   "metadata": {},
   "outputs": [],
   "source": []
  }
 ],
 "metadata": {
  "kernelspec": {
   "display_name": "Python 3 (ipykernel)",
   "language": "python",
   "name": "python3"
  },
  "language_info": {
   "codemirror_mode": {
    "name": "ipython",
    "version": 3
   },
   "file_extension": ".py",
   "mimetype": "text/x-python",
   "name": "python",
   "nbconvert_exporter": "python",
   "pygments_lexer": "ipython3",
   "version": "3.12.4"
  }
 },
 "nbformat": 4,
 "nbformat_minor": 5
}
